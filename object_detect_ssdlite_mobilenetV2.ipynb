{
 "cells": [
  {
   "cell_type": "code",
   "execution_count": 2,
   "metadata": {
    "collapsed": true
   },
   "outputs": [],
   "source": [
    "import os\n",
    "import sys\n",
    "from datetime import datetime \n",
    "from datetime import timedelta\n",
    "import cv2\n",
    "import numpy as np\n",
    "from matplotlib import pyplot as plt\n",
    "from tqdm import tqdm_notebook"
   ]
  },
  {
   "cell_type": "code",
   "execution_count": 3,
   "metadata": {},
   "outputs": [
    {
     "name": "stdout",
     "output_type": "stream",
     "text": [
      "/Volumes/FRED SHONE\n"
     ]
    }
   ],
   "source": [
    "# Set-up directory\n",
    "\n",
    "disk_name = 'FRED SHONE' # Memory Stick\n",
    "disk_location = '/Volumes'\n",
    "disk_path = os.path.join(disk_location, disk_name)\n",
    "print(disk_path)"
   ]
  },
  {
   "cell_type": "code",
   "execution_count": 4,
   "metadata": {},
   "outputs": [
    {
     "name": "stdout",
     "output_type": "stream",
     "text": [
      "['01-03-2015', '01-04-2015']\n"
     ]
    }
   ],
   "source": [
    "# Access daily sub-directories of images\n",
    "\n",
    "folders = sorted(os.listdir(disk_path)) # Assumes sorting by name is ok - but this won't work for changes in year\n",
    "\n",
    "# Filter for days by trying to convert to datetime\n",
    "\n",
    "day_directories = []\n",
    "for folder in folders:\n",
    "    try: \n",
    "        datetime.strptime(folder, '%m-%d-%Y')\n",
    "        day_directories.append(folder)\n",
    "    except: pass\n",
    "    \n",
    "print(day_directories)"
   ]
  },
  {
   "cell_type": "code",
   "execution_count": 5,
   "metadata": {},
   "outputs": [
    {
     "name": "stdout",
     "output_type": "stream",
     "text": [
      "01-03-2015: 16684 images\n",
      "frame rate assumed to be ~0.30896296296296294 frames per second\n",
      "01-04-2015: 16680 images\n",
      "frame rate assumed to be ~0.3088888888888889 frames per second\n"
     ]
    }
   ],
   "source": [
    "# Check for number of images in day directories\n",
    "\n",
    "for day_directory in day_directories:\n",
    "    day_dir_path = os.path.join(disk_path, day_directory)\n",
    "    image_paths = os.listdir(day_dir_path)\n",
    "    image_paths = sorted([image for image in os.listdir(day_dir_path) if not image.startswith('.')])\n",
    "    image_count = len(image_paths)\n",
    "    print('{}: {} images'.format(day_directory, image_count))   \n",
    "    #Wilkins building listed as opening hours from 8am to 11pm = 15 hours\n",
    "    frame_rate = image_count/(15*60*60)\n",
    "    print('frame rate assumed to be ~{} frames per second'.format(frame_rate))"
   ]
  },
  {
   "cell_type": "code",
   "execution_count": null,
   "metadata": {
    "collapsed": true
   },
   "outputs": [],
   "source": []
  },
  {
   "cell_type": "code",
   "execution_count": 6,
   "metadata": {},
   "outputs": [
    {
     "name": "stderr",
     "output_type": "stream",
     "text": [
      "/Users/fredshone/tensorflow/lib/python3.6/site-packages/h5py/__init__.py:36: FutureWarning: Conversion of the second argument of issubdtype from `float` to `np.floating` is deprecated. In future, it will be treated as `np.float64 == np.dtype(float).type`.\n",
      "  from ._conv import register_converters as _register_converters\n"
     ]
    }
   ],
   "source": [
    "#\n",
    "import numpy as np\n",
    "import os\n",
    "import six.moves.urllib as urllib\n",
    "import sys\n",
    "import tarfile\n",
    "import tensorflow as tf\n",
    "import zipfile\n",
    "\n",
    "from collections import defaultdict\n",
    "from io import StringIO\n",
    "from matplotlib import pyplot as plt\n",
    "from PIL import Image\n",
    "\n",
    "if tf.__version__ < '1.4.0':\n",
    "  raise ImportError('Please upgrade your tensorflow installation to v1.4.* or later!')"
   ]
  },
  {
   "cell_type": "code",
   "execution_count": 7,
   "metadata": {
    "collapsed": true
   },
   "outputs": [],
   "source": [
    "# This is needed to display the images.\n",
    "%matplotlib inline\n",
    "# This is needed since the notebook is stored in the object_detection folder.\n",
    "sys.path.append('object_detection')"
   ]
  },
  {
   "cell_type": "code",
   "execution_count": 8,
   "metadata": {
    "collapsed": true
   },
   "outputs": [],
   "source": [
    "from object_detection.utils import label_map_util\n",
    "from object_detection.utils import visualization_utils as vis_util"
   ]
  },
  {
   "cell_type": "code",
   "execution_count": 9,
   "metadata": {
    "collapsed": true
   },
   "outputs": [],
   "source": [
    "# What model to download.\n",
    "MODEL_NAME = 'ssdlite_mobilenet_v2_coco_2018_05_09'\n",
    "MODEL_FILE = MODEL_NAME + '.tar.gz'\n",
    "DOWNLOAD_BASE = 'http://download.tensorflow.org/models/object_detection/'\n",
    "\n",
    "# Path to frozen detection graph. This is the actual model that is used for the object detection.\n",
    "PATH_TO_CKPT = MODEL_NAME + '/frozen_inference_graph.pb'\n",
    "\n",
    "# List of the strings that is used to add correct label for each box.\n",
    "PATH_TO_LABELS = os.path.join('object_detection', 'data', 'mscoco_label_map.pbtxt')\n",
    "\n",
    "NUM_CLASSES = 90"
   ]
  },
  {
   "cell_type": "code",
   "execution_count": 10,
   "metadata": {},
   "outputs": [
    {
     "name": "stdout",
     "output_type": "stream",
     "text": [
      "/Users/fredshone/Projects/Dissertation\n"
     ]
    }
   ],
   "source": [
    "print(os.getcwd())"
   ]
  },
  {
   "cell_type": "code",
   "execution_count": 11,
   "metadata": {
    "collapsed": true
   },
   "outputs": [],
   "source": [
    "# Download Model\n",
    "opener = urllib.request.URLopener()\n",
    "opener.retrieve(DOWNLOAD_BASE + MODEL_FILE, MODEL_FILE)\n",
    "tar_file = tarfile.open(MODEL_FILE)\n",
    "for file in tar_file.getmembers():\n",
    "  file_name = os.path.basename(file.name)\n",
    "  if 'frozen_inference_graph.pb' in file_name:\n",
    "    tar_file.extract(file, os.getcwd())"
   ]
  },
  {
   "cell_type": "code",
   "execution_count": 12,
   "metadata": {
    "collapsed": true
   },
   "outputs": [],
   "source": [
    "#Load Frozen model into memory\n",
    "detection_graph = tf.Graph()\n",
    "with detection_graph.as_default():\n",
    "  od_graph_def = tf.GraphDef()\n",
    "  with tf.gfile.GFile(PATH_TO_CKPT, 'rb') as fid:\n",
    "    serialized_graph = fid.read()\n",
    "    od_graph_def.ParseFromString(serialized_graph)\n",
    "    tf.import_graph_def(od_graph_def, name='')"
   ]
  },
  {
   "cell_type": "code",
   "execution_count": 13,
   "metadata": {
    "collapsed": true
   },
   "outputs": [],
   "source": [
    "# Load label map\n",
    "label_map = label_map_util.load_labelmap(PATH_TO_LABELS)\n",
    "categories = label_map_util.convert_label_map_to_categories(label_map, max_num_classes=NUM_CLASSES, use_display_name=True)\n",
    "category_index = label_map_util.create_category_index(categories)"
   ]
  },
  {
   "cell_type": "code",
   "execution_count": 14,
   "metadata": {
    "collapsed": true
   },
   "outputs": [],
   "source": [
    "def load_image_into_numpy_array(image):\n",
    "  (im_width, im_height) = image.size\n",
    "  return np.array(image.getdata()).reshape(\n",
    "      (im_height, im_width, 3)).astype(np.uint8)"
   ]
  },
  {
   "cell_type": "code",
   "execution_count": null,
   "metadata": {
    "collapsed": true
   },
   "outputs": [],
   "source": []
  },
  {
   "cell_type": "code",
   "execution_count": 15,
   "metadata": {
    "collapsed": true
   },
   "outputs": [],
   "source": [
    "# Set-up motion detector\n",
    "trigger = 0.0001 # Total pixel difference to trigger motion detection\n",
    "warning_trigger = 10000 # Total pixel difference to trigger verbose image plot\n",
    "\n",
    "verbose = False \n",
    "start_time = '08:00' # Assumes camera turned on at 8am every day\n",
    "frame_step = 3 # Seconds\n",
    "\n",
    "detect_objects = True\n",
    "detection_threshold = 0.5"
   ]
  },
  {
   "cell_type": "code",
   "execution_count": 30,
   "metadata": {
    "collapsed": true
   },
   "outputs": [],
   "source": [
    "trigger_record = [] # Record of triggers"
   ]
  },
  {
   "cell_type": "code",
   "execution_count": 31,
   "metadata": {
    "scrolled": true
   },
   "outputs": [
    {
     "data": {
      "application/vnd.jupyter.widget-view+json": {
       "model_id": "590fa34a604d47bebd595dc3f19768d4",
       "version_major": 2,
       "version_minor": 0
      },
      "text/html": [
       "<p>Failed to display Jupyter Widget of type <code>HBox</code>.</p>\n",
       "<p>\n",
       "  If you're reading this message in the Jupyter Notebook or JupyterLab Notebook, it may mean\n",
       "  that the widgets JavaScript is still loading. If this message persists, it\n",
       "  likely means that the widgets JavaScript library is either not installed or\n",
       "  not enabled. See the <a href=\"https://ipywidgets.readthedocs.io/en/stable/user_install.html\">Jupyter\n",
       "  Widgets Documentation</a> for setup instructions.\n",
       "</p>\n",
       "<p>\n",
       "  If you're reading this message in another frontend (for example, a static\n",
       "  rendering on GitHub or <a href=\"https://nbviewer.jupyter.org/\">NBViewer</a>),\n",
       "  it may mean that your frontend doesn't currently support widgets.\n",
       "</p>\n"
      ],
      "text/plain": [
       "HBox(children=(IntProgress(value=0, description='Days:', max=2), HTML(value='')))"
      ]
     },
     "metadata": {},
     "output_type": "display_data"
    },
    {
     "data": {
      "application/vnd.jupyter.widget-view+json": {
       "model_id": "07f5205310094285bc7d103ae25b3eb4",
       "version_major": 2,
       "version_minor": 0
      },
      "text/html": [
       "<p>Failed to display Jupyter Widget of type <code>HBox</code>.</p>\n",
       "<p>\n",
       "  If you're reading this message in the Jupyter Notebook or JupyterLab Notebook, it may mean\n",
       "  that the widgets JavaScript is still loading. If this message persists, it\n",
       "  likely means that the widgets JavaScript library is either not installed or\n",
       "  not enabled. See the <a href=\"https://ipywidgets.readthedocs.io/en/stable/user_install.html\">Jupyter\n",
       "  Widgets Documentation</a> for setup instructions.\n",
       "</p>\n",
       "<p>\n",
       "  If you're reading this message in another frontend (for example, a static\n",
       "  rendering on GitHub or <a href=\"https://nbviewer.jupyter.org/\">NBViewer</a>),\n",
       "  it may mean that your frontend doesn't currently support widgets.\n",
       "</p>\n"
      ],
      "text/plain": [
       "HBox(children=(IntProgress(value=0, description='2015-01-03 00:00:00 progress:', max=16684), HTML(value='')))"
      ]
     },
     "metadata": {},
     "output_type": "display_data"
    },
    {
     "name": "stdout",
     "output_type": "stream",
     "text": [
      "2 detections recorded at 2015-01-03 08:01:36\n",
      "person: 0.7187225818634033%\n",
      "person: 0.5653699636459351%\n",
      "2 detections recorded at 2015-01-03 08:01:39\n",
      "person: 0.7891256809234619%\n",
      "person: 0.551537036895752%\n",
      "1 detections recorded at 2015-01-03 08:02:45\n",
      "person: 0.6906239986419678%\n",
      "1 detections recorded at 2015-01-03 08:11:45\n",
      "person: 0.5073606371879578%\n",
      "1 detections recorded at 2015-01-03 08:11:48\n",
      "person: 0.9793949723243713%\n",
      "2 detections recorded at 2015-01-03 08:50:18\n",
      "person: 0.8094459176063538%\n",
      "person: 0.6295208930969238%\n",
      "1 detections recorded at 2015-01-03 08:50:39\n",
      "person: 0.8372952342033386%\n",
      "1 detections recorded at 2015-01-03 08:52:03\n",
      "person: 0.7642011642456055%\n",
      "1 detections recorded at 2015-01-03 08:52:15\n",
      "person: 0.73819899559021%\n",
      "1 detections recorded at 2015-01-03 08:52:51\n",
      "person: 0.5794637203216553%\n",
      "1 detections recorded at 2015-01-03 08:52:57\n",
      "person: 0.9874184131622314%\n",
      "1 detections recorded at 2015-01-03 08:53:06\n",
      "person: 0.9595463871955872%\n",
      "1 detections recorded at 2015-01-03 08:53:33\n",
      "person: 0.8075369000434875%\n",
      "1 detections recorded at 2015-01-03 08:54:18\n",
      "person: 0.8652636408805847%\n",
      "1 detections recorded at 2015-01-03 08:54:42\n",
      "person: 0.9746922850608826%\n",
      "1 detections recorded at 2015-01-03 08:54:57\n",
      "person: 0.5932472944259644%\n",
      "1 detections recorded at 2015-01-03 08:55:36\n",
      "person: 0.9645329713821411%\n",
      "1 detections recorded at 2015-01-03 08:55:57\n",
      "person: 0.9240485429763794%\n",
      "2 detections recorded at 2015-01-03 08:57:00\n",
      "person: 0.9818710088729858%\n",
      "person: 0.9549738764762878%\n",
      "2 detections recorded at 2015-01-03 08:57:09\n",
      "oven: 0.8306137919425964%\n",
      "person: 0.8130653500556946%\n",
      "2 detections recorded at 2015-01-03 08:57:15\n",
      "person: 0.951525092124939%\n",
      "cat: 0.5463343262672424%\n"
     ]
    },
    {
     "data": {
      "application/vnd.jupyter.widget-view+json": {
       "model_id": "33a1251238bf47e28ccaf01621a461de",
       "version_major": 2,
       "version_minor": 0
      },
      "text/html": [
       "<p>Failed to display Jupyter Widget of type <code>HBox</code>.</p>\n",
       "<p>\n",
       "  If you're reading this message in the Jupyter Notebook or JupyterLab Notebook, it may mean\n",
       "  that the widgets JavaScript is still loading. If this message persists, it\n",
       "  likely means that the widgets JavaScript library is either not installed or\n",
       "  not enabled. See the <a href=\"https://ipywidgets.readthedocs.io/en/stable/user_install.html\">Jupyter\n",
       "  Widgets Documentation</a> for setup instructions.\n",
       "</p>\n",
       "<p>\n",
       "  If you're reading this message in another frontend (for example, a static\n",
       "  rendering on GitHub or <a href=\"https://nbviewer.jupyter.org/\">NBViewer</a>),\n",
       "  it may mean that your frontend doesn't currently support widgets.\n",
       "</p>\n"
      ],
      "text/plain": [
       "HBox(children=(IntProgress(value=0, description='2015-01-04 00:00:00 progress:', max=16680), HTML(value='')))"
      ]
     },
     "metadata": {},
     "output_type": "display_data"
    }
   ],
   "source": [
    "for day_directory in tqdm_notebook(day_directories, desc='Days:'):\n",
    "    '''\n",
    "    print('------------------------------')\n",
    "    print('>>> Processing images for {}'.format(day_directory))\n",
    "    '''\n",
    "    day_dir_path = os.path.join(disk_path, day_directory)\n",
    "    images = sorted([image for image in os.listdir(day_dir_path) if not image.startswith('.')])\n",
    "    \n",
    "    date = datetime.strptime(day_directory,'%m-%d-%Y')\n",
    "    start_datetime = datetime.strptime(day_directory+' '+start_time,'%m-%d-%Y %H:%M')\n",
    "    \n",
    "    background = None # Initialise with no background\n",
    "    \n",
    "    num_images = len(images) # Get amount of images for progress bar\n",
    "        \n",
    "    for image in tqdm_notebook(images, desc='{} progress:'.format(date)):\n",
    "        \n",
    "        image_path = os.path.join(day_dir_path, image)\n",
    "        img = cv2.imread(image_path)\n",
    "        \n",
    "        # Reduce image size to 1%\n",
    "        thumb = cv2.resize(img, None, fx=.1, fy=.1, interpolation = cv2.INTER_AREA)\n",
    "        thumb = cv2.cvtColor(thumb, cv2.COLOR_BGR2GRAY)\n",
    "\n",
    "        if background is None: # Initialise background for first pass\n",
    "            background = thumb\n",
    "            \n",
    "        delta = cv2.absdiff(background, thumb)\n",
    "        thresh = cv2.threshold(delta, 25, 255, cv2.THRESH_BINARY)[1]\n",
    "        pixel_diff = cv2.sumElems(thresh)[0] # Need to check that this is the absolute difference\n",
    "        \n",
    "        if pixel_diff > img.size*trigger:\n",
    "            \n",
    "            # Extract frame number from imaga path\n",
    "            image_index = [int(s) for s in list(image) if s.isdigit()]\n",
    "            image_index = ''.join(str(x) for x in image_index) \n",
    "            image_index = int(image_index)\n",
    "            \n",
    "            # Calculate time stamp of frame\n",
    "            time_delta = timedelta(seconds=(frame_step*image_index))\n",
    "            time_stamp = start_datetime + time_delta\n",
    "            \n",
    "            if verbose:\n",
    "                '''\n",
    "                print('---------------')\n",
    "                print(image) \n",
    "                print('Movement detected at {} with pixel delta of {}:'.format(str(time_stamp), pixel_diff))\n",
    "                '''\n",
    "                \n",
    "                if pixel_diff < warning_trigger:\n",
    "                    f, axarr = plt.subplots(1,3, figsize=(15,5))\n",
    "                    axarr[0].imshow(background)\n",
    "                    axarr[1].imshow(thresh)\n",
    "                    axarr[2].imshow(thumb)\n",
    "                    plt.show()\n",
    "\n",
    "            # Object Detection\n",
    "            #PATH_TO_TEST_IMAGES_DIR = 'test_images'\n",
    "            #TEST_IMAGE_PATHS = [ os.path.join(PATH_TO_TEST_IMAGES_DIR, '{}.jpg'.format(i)) for i in range(1, 20) ]\n",
    "\n",
    "            # Size, in inches, of the output images.\n",
    "            IMAGE_SIZE = (18,12)\n",
    "            \n",
    "            with detection_graph.as_default():\n",
    "              with tf.Session(graph=detection_graph) as sess:\n",
    "                \n",
    "                # Definite input and output Tensors for detection_graph\n",
    "                image_tensor = detection_graph.get_tensor_by_name('image_tensor:0')\n",
    "                # Each box represents a part of the image where a particular object was detected.\n",
    "                detection_boxes = detection_graph.get_tensor_by_name('detection_boxes:0')\n",
    "                # Each score represent how level of confidence for each of the objects.\n",
    "                # Score is shown on the result image, together with the class label.\n",
    "                detection_scores = detection_graph.get_tensor_by_name('detection_scores:0')\n",
    "                detection_classes = detection_graph.get_tensor_by_name('detection_classes:0')\n",
    "                num_detections = detection_graph.get_tensor_by_name('num_detections:0')\n",
    "                \n",
    "                image = Image.open(image_path)\n",
    "                #print('Image {} Loaded'.format(image_path))\n",
    "                \n",
    "                # the array based representation of the image will be used later in order to prepare the\n",
    "                # result image with boxes and labels on it.\n",
    "                image_np = load_image_into_numpy_array(image)\n",
    "                # Expand dimensions since the model expects images to have shape: [1, None, None, 3]\n",
    "                image_np_expanded = np.expand_dims(image_np, axis=0)\n",
    "                # Actual detection.\n",
    "                (boxes, scores, classes, num) = sess.run(\n",
    "                    [detection_boxes, detection_scores, detection_classes, num_detections],\n",
    "                    feed_dict={image_tensor: image_np_expanded})\n",
    "                # Select observations scored above threshold (default 0.5)\n",
    "                boxes = boxes[scores>detection_threshold]\n",
    "                classes = classes[scores>detection_threshold]\n",
    "                scores = scores[scores>detection_threshold]\n",
    "                num = len(classes)\n",
    "                if num:\n",
    "                    record = (time_stamp, (boxes, scores, classes, num))\n",
    "                    trigger_record.append(record) # Add to record\n",
    "                    print('{} detections recorded at {}'.format(num, str(time_stamp)))\n",
    "                    for c, s in zip(classes, scores):\n",
    "                        print('{}: {}%'.format(category_index[c]['name'], s))\n",
    "                # Visualization of the results of a detection.\n",
    "                '''\n",
    "                vis_util.visualize_boxes_and_labels_on_image_array(\n",
    "                    image_np,\n",
    "                    np.squeeze(boxes),\n",
    "                    np.squeeze(classes).astype(np.int32),\n",
    "                    np.squeeze(scores),\n",
    "                    category_index,\n",
    "                    use_normalized_coordinates=True,\n",
    "                    line_thickness=8)\n",
    "                    '''\n",
    "                #plt.figure(figsize=IMAGE_SIZE)\n",
    "                #plt.imshow(image_np)\n",
    "                #SAVE_IMAGE_PATH = os.path.join(PATH_TO_TEST_IMAGES_DIR, 'bbox{}.jpg'.format(index))\n",
    "                #plt.savefig(SAVE_IMAGE_PATH)\n",
    "                #print(SAVE_IMAGE_PATH + ' saved.')\n",
    "                \n",
    "            if len(trigger_record) > 20:\n",
    "                break\n",
    "            \n",
    "        #i = int(100*index/(num_images-1))\n",
    "        '''\n",
    "        sys.stdout.write('\\r')\n",
    "        sys.stdout.write('Movement detected at {} with pixel delta of {}:'.format(str(time_stamp), pixel_diff))\n",
    "        sys.stdout.write(\"[%-100s] %d%%\" % ('='*i, i))\n",
    "        sys.stdout.flush()\n",
    "        '''\n",
    "        background = thumb # Set background for next frame        "
   ]
  },
  {
   "cell_type": "code",
   "execution_count": 32,
   "metadata": {},
   "outputs": [
    {
     "data": {
      "text/plain": [
       "21"
      ]
     },
     "execution_count": 32,
     "metadata": {},
     "output_type": "execute_result"
    }
   ],
   "source": [
    "len(trigger_record)"
   ]
  },
  {
   "cell_type": "code",
   "execution_count": 33,
   "metadata": {},
   "outputs": [
    {
     "data": {
      "text/plain": [
       "[(datetime.datetime(2015, 1, 3, 8, 1, 36),\n",
       "  (array([[0.25260082, 0.01737151, 0.99584806, 0.386947  ],\n",
       "          [0.19010317, 0.54058725, 0.9837016 , 0.7233326 ]], dtype=float32),\n",
       "   array([0.7187226 , 0.56536996], dtype=float32),\n",
       "   array([1., 1.], dtype=float32),\n",
       "   2)),\n",
       " (datetime.datetime(2015, 1, 3, 8, 1, 39),\n",
       "  (array([[0.        , 0.8182204 , 0.52892625, 0.9723091 ],\n",
       "          [0.05267602, 0.04018613, 0.8337374 , 0.22863907]], dtype=float32),\n",
       "   array([0.7891257 , 0.55153704], dtype=float32),\n",
       "   array([1., 1.], dtype=float32),\n",
       "   2)),\n",
       " (datetime.datetime(2015, 1, 3, 8, 2, 45),\n",
       "  (array([[0.03490688, 0.53273165, 0.4279412 , 0.7551333 ]], dtype=float32),\n",
       "   array([0.690624], dtype=float32),\n",
       "   array([1.], dtype=float32),\n",
       "   1)),\n",
       " (datetime.datetime(2015, 1, 3, 8, 11, 45),\n",
       "  (array([[0.        , 0.06819192, 0.3847496 , 0.19084388]], dtype=float32),\n",
       "   array([0.50736064], dtype=float32),\n",
       "   array([1.], dtype=float32),\n",
       "   1)),\n",
       " (datetime.datetime(2015, 1, 3, 8, 11, 48),\n",
       "  (array([[0.03804833, 0.05830871, 0.6462436 , 0.19347556]], dtype=float32),\n",
       "   array([0.979395], dtype=float32),\n",
       "   array([1.], dtype=float32),\n",
       "   1)),\n",
       " (datetime.datetime(2015, 1, 3, 8, 50, 18),\n",
       "  (array([[0.16235602, 0.16351588, 0.9766718 , 0.3150195 ],\n",
       "          [0.336305  , 0.37702578, 0.98631585, 0.56457454]], dtype=float32),\n",
       "   array([0.8094459, 0.6295209], dtype=float32),\n",
       "   array([1., 1.], dtype=float32),\n",
       "   2)),\n",
       " (datetime.datetime(2015, 1, 3, 8, 50, 39),\n",
       "  (array([[0.04145485, 0.2576605 , 0.6237572 , 0.42342263]], dtype=float32),\n",
       "   array([0.83729523], dtype=float32),\n",
       "   array([1.], dtype=float32),\n",
       "   1)),\n",
       " (datetime.datetime(2015, 1, 3, 8, 52, 3),\n",
       "  (array([[0.00600511, 0.74870884, 0.5892582 , 0.88252723]], dtype=float32),\n",
       "   array([0.76420116], dtype=float32),\n",
       "   array([1.], dtype=float32),\n",
       "   1)),\n",
       " (datetime.datetime(2015, 1, 3, 8, 52, 15),\n",
       "  (array([[0.49243027, 0.06592862, 0.9916602 , 0.38061953]], dtype=float32),\n",
       "   array([0.738199], dtype=float32),\n",
       "   array([1.], dtype=float32),\n",
       "   1)),\n",
       " (datetime.datetime(2015, 1, 3, 8, 52, 51),\n",
       "  (array([[0.05038324, 0.6030029 , 0.5508939 , 0.7426541 ]], dtype=float32),\n",
       "   array([0.5794637], dtype=float32),\n",
       "   array([1.], dtype=float32),\n",
       "   1)),\n",
       " (datetime.datetime(2015, 1, 3, 8, 52, 57),\n",
       "  (array([[0.00747943, 0.69513994, 0.68016183, 0.860241  ]], dtype=float32),\n",
       "   array([0.9874184], dtype=float32),\n",
       "   array([1.], dtype=float32),\n",
       "   1)),\n",
       " (datetime.datetime(2015, 1, 3, 8, 53, 6),\n",
       "  (array([[0.01636404, 0.64401054, 0.73504674, 0.7959492 ]], dtype=float32),\n",
       "   array([0.9595464], dtype=float32),\n",
       "   array([1.], dtype=float32),\n",
       "   1)),\n",
       " (datetime.datetime(2015, 1, 3, 8, 53, 33),\n",
       "  (array([[0.09492651, 0.17870241, 0.9180894 , 0.34237897]], dtype=float32),\n",
       "   array([0.8075369], dtype=float32),\n",
       "   array([1.], dtype=float32),\n",
       "   1)),\n",
       " (datetime.datetime(2015, 1, 3, 8, 54, 18),\n",
       "  (array([[0.        , 0.68867373, 0.6769645 , 0.85405445]], dtype=float32),\n",
       "   array([0.86526364], dtype=float32),\n",
       "   array([1.], dtype=float32),\n",
       "   1)),\n",
       " (datetime.datetime(2015, 1, 3, 8, 54, 42),\n",
       "  (array([[0.06531522, 0.33857703, 0.6371026 , 0.5069904 ]], dtype=float32),\n",
       "   array([0.9746923], dtype=float32),\n",
       "   array([1.], dtype=float32),\n",
       "   1)),\n",
       " (datetime.datetime(2015, 1, 3, 8, 54, 57),\n",
       "  (array([[0.24773443, 0.22964576, 0.86177194, 0.37537315]], dtype=float32),\n",
       "   array([0.5932473], dtype=float32),\n",
       "   array([1.], dtype=float32),\n",
       "   1)),\n",
       " (datetime.datetime(2015, 1, 3, 8, 55, 36),\n",
       "  (array([[0.08537281, 0.19145748, 0.65071946, 0.39586207]], dtype=float32),\n",
       "   array([0.964533], dtype=float32),\n",
       "   array([1.], dtype=float32),\n",
       "   1)),\n",
       " (datetime.datetime(2015, 1, 3, 8, 55, 57),\n",
       "  (array([[0.11216   , 0.54724956, 0.97075975, 0.72603655]], dtype=float32),\n",
       "   array([0.92404854], dtype=float32),\n",
       "   array([1.], dtype=float32),\n",
       "   1)),\n",
       " (datetime.datetime(2015, 1, 3, 8, 57),\n",
       "  (array([[0.12802768, 0.7699224 , 0.86792684, 0.94741035],\n",
       "          [0.0784857 , 0.6031835 , 0.74876785, 0.74591136]], dtype=float32),\n",
       "   array([0.981871 , 0.9549739], dtype=float32),\n",
       "   array([1., 1.], dtype=float32),\n",
       "   2)),\n",
       " (datetime.datetime(2015, 1, 3, 8, 57, 9),\n",
       "  (array([[0.45319772, 0.18202458, 0.8567085 , 0.5051166 ],\n",
       "          [0.15480855, 0.        , 0.87928224, 0.21618943]], dtype=float32),\n",
       "   array([0.8306138 , 0.81306535], dtype=float32),\n",
       "   array([79.,  1.], dtype=float32),\n",
       "   2)),\n",
       " (datetime.datetime(2015, 1, 3, 8, 57, 15),\n",
       "  (array([[0.09040698, 0.23178118, 0.6605828 , 0.4302348 ],\n",
       "          [0.08903456, 0.23414968, 0.6574856 , 0.42720068]], dtype=float32),\n",
       "   array([0.9515251, 0.5463343], dtype=float32),\n",
       "   array([ 1., 17.], dtype=float32),\n",
       "   2))]"
      ]
     },
     "execution_count": 33,
     "metadata": {},
     "output_type": "execute_result"
    }
   ],
   "source": [
    "trigger_record"
   ]
  },
  {
   "cell_type": "code",
   "execution_count": 34,
   "metadata": {},
   "outputs": [
    {
     "name": "stdout",
     "output_type": "stream",
     "text": [
      "person: 0.7187225818634033% at 2015-01-03 08:01:36\n",
      "person: 0.5653699636459351% at 2015-01-03 08:01:36\n",
      "person: 0.7891256809234619% at 2015-01-03 08:01:39\n",
      "person: 0.551537036895752% at 2015-01-03 08:01:39\n",
      "person: 0.6906239986419678% at 2015-01-03 08:02:45\n",
      "person: 0.5073606371879578% at 2015-01-03 08:11:45\n",
      "person: 0.9793949723243713% at 2015-01-03 08:11:48\n",
      "person: 0.8094459176063538% at 2015-01-03 08:50:18\n",
      "person: 0.6295208930969238% at 2015-01-03 08:50:18\n",
      "person: 0.8372952342033386% at 2015-01-03 08:50:39\n",
      "person: 0.7642011642456055% at 2015-01-03 08:52:03\n",
      "person: 0.73819899559021% at 2015-01-03 08:52:15\n",
      "person: 0.5794637203216553% at 2015-01-03 08:52:51\n",
      "person: 0.9874184131622314% at 2015-01-03 08:52:57\n",
      "person: 0.9595463871955872% at 2015-01-03 08:53:06\n",
      "person: 0.8075369000434875% at 2015-01-03 08:53:33\n",
      "person: 0.8652636408805847% at 2015-01-03 08:54:18\n",
      "person: 0.9746922850608826% at 2015-01-03 08:54:42\n",
      "person: 0.5932472944259644% at 2015-01-03 08:54:57\n",
      "person: 0.9645329713821411% at 2015-01-03 08:55:36\n",
      "person: 0.9240485429763794% at 2015-01-03 08:55:57\n",
      "person: 0.9818710088729858% at 2015-01-03 08:57:00\n",
      "person: 0.9549738764762878% at 2015-01-03 08:57:00\n",
      "oven: 0.8306137919425964% at 2015-01-03 08:57:09\n",
      "person: 0.8130653500556946% at 2015-01-03 08:57:09\n",
      "person: 0.951525092124939% at 2015-01-03 08:57:15\n",
      "cat: 0.5463343262672424% at 2015-01-03 08:57:15\n"
     ]
    }
   ],
   "source": [
    "for r in trigger_record:\n",
    "    for c, s in zip(r[1][2], r[1][1]):\n",
    "        print('{}: {}% at {}'.format(category_index[c]['name'], s, r[0]))"
   ]
  },
  {
   "cell_type": "code",
   "execution_count": null,
   "metadata": {
    "collapsed": true
   },
   "outputs": [],
   "source": [
    "import pandas as pd"
   ]
  },
  {
   "cell_type": "code",
   "execution_count": null,
   "metadata": {
    "collapsed": true
   },
   "outputs": [],
   "source": []
  },
  {
   "cell_type": "code",
   "execution_count": null,
   "metadata": {
    "collapsed": true
   },
   "outputs": [],
   "source": [
    "motion_detections = pd.DataFrame({'timestamp':trigger_record})"
   ]
  },
  {
   "cell_type": "code",
   "execution_count": null,
   "metadata": {
    "collapsed": true
   },
   "outputs": [],
   "source": [
    "start_time = min(motion_detections.timestamp).replace(hour=0, minute=0, second=0).to_pydatetime()\n",
    "end_time = max(motion_detections.timestamp).replace(hour=0, minute=0, second=0).to_pydatetime() + timedelta(days=1)"
   ]
  },
  {
   "cell_type": "code",
   "execution_count": null,
   "metadata": {
    "collapsed": true
   },
   "outputs": [],
   "source": [
    "time_range = pd.date_range(start=start_time, end=end_time, freq='H')\n",
    "time_range_counter = pd.DataFrame({'timestamps':all_range, 'counter':0}).set_index('timestamps')"
   ]
  },
  {
   "cell_type": "code",
   "execution_count": null,
   "metadata": {
    "collapsed": true
   },
   "outputs": [],
   "source": [
    "for detection in motion_detections.timestamp:\n",
    "    detection_time = detection.replace(minute=0, second=0)\n",
    "    time_range_counter.counter[detection_time] += 1"
   ]
  },
  {
   "cell_type": "code",
   "execution_count": null,
   "metadata": {
    "collapsed": true
   },
   "outputs": [],
   "source": [
    "my_colors = 'b'\n",
    "time_range_counter.plot(kind='bar',\n",
    "             color=my_colors,\n",
    "             alpha=0.5,\n",
    "             figsize=(16,8),\n",
    "             title='Motion Detections')\n"
   ]
  },
  {
   "cell_type": "code",
   "execution_count": null,
   "metadata": {
    "collapsed": true
   },
   "outputs": [],
   "source": []
  },
  {
   "cell_type": "code",
   "execution_count": null,
   "metadata": {
    "collapsed": true
   },
   "outputs": [],
   "source": [
    "hour_motion_detections = motion_detections.groupby(motion_detections.timestamp.dt.hour).count()"
   ]
  },
  {
   "cell_type": "code",
   "execution_count": null,
   "metadata": {
    "collapsed": true
   },
   "outputs": [],
   "source": [
    "my_colors = 'r'\n",
    "hour_motion_detections.plot(kind='bar',\n",
    "             color=my_colors,\n",
    "             alpha=0.5,\n",
    "             figsize=(16,8),\n",
    "             title='Av. Motion Detections')"
   ]
  },
  {
   "cell_type": "code",
   "execution_count": null,
   "metadata": {
    "collapsed": true
   },
   "outputs": [],
   "source": [
    "boxes"
   ]
  },
  {
   "cell_type": "code",
   "execution_count": null,
   "metadata": {
    "collapsed": true
   },
   "outputs": [],
   "source": [
    "boxes.shape"
   ]
  },
  {
   "cell_type": "code",
   "execution_count": null,
   "metadata": {
    "collapsed": true
   },
   "outputs": [],
   "source": [
    "scores.shape"
   ]
  },
  {
   "cell_type": "code",
   "execution_count": null,
   "metadata": {
    "collapsed": true
   },
   "outputs": [],
   "source": [
    "classes.shape"
   ]
  },
  {
   "cell_type": "code",
   "execution_count": null,
   "metadata": {
    "collapsed": true
   },
   "outputs": [],
   "source": [
    "num.shape"
   ]
  },
  {
   "cell_type": "code",
   "execution_count": null,
   "metadata": {
    "collapsed": true
   },
   "outputs": [],
   "source": [
    "classes"
   ]
  },
  {
   "cell_type": "code",
   "execution_count": null,
   "metadata": {
    "collapsed": true
   },
   "outputs": [],
   "source": [
    "category_index[88.]['name']"
   ]
  },
  {
   "cell_type": "code",
   "execution_count": null,
   "metadata": {
    "collapsed": true
   },
   "outputs": [],
   "source": [
    "len(category_index)"
   ]
  },
  {
   "cell_type": "code",
   "execution_count": null,
   "metadata": {
    "collapsed": true
   },
   "outputs": [],
   "source": [
    "for i in range(1,len(category_index)+1):\n",
    "    try: \n",
    "        print(category_index[i]['name'])\n",
    "    except:\n",
    "        pass"
   ]
  },
  {
   "cell_type": "code",
   "execution_count": null,
   "metadata": {
    "collapsed": true
   },
   "outputs": [],
   "source": [
    "category_index"
   ]
  },
  {
   "cell_type": "code",
   "execution_count": null,
   "metadata": {
    "collapsed": true
   },
   "outputs": [],
   "source": []
  },
  {
   "cell_type": "code",
   "execution_count": null,
   "metadata": {
    "collapsed": true
   },
   "outputs": [],
   "source": []
  }
 ],
 "metadata": {
  "kernelspec": {
   "display_name": "tensorflow",
   "language": "python",
   "name": "tensorflow"
  },
  "language_info": {
   "codemirror_mode": {
    "name": "ipython",
    "version": 3
   },
   "file_extension": ".py",
   "mimetype": "text/x-python",
   "name": "python",
   "nbconvert_exporter": "python",
   "pygments_lexer": "ipython3",
   "version": "3.6.5"
  }
 },
 "nbformat": 4,
 "nbformat_minor": 2
}

{
 "cells": [
  {
   "cell_type": "code",
   "execution_count": 9,
   "metadata": {},
   "outputs": [],
   "source": [
    "import os\n",
    "import sys\n",
    "from datetime import datetime \n",
    "from datetime import timedelta\n",
    "import cv2\n",
    "import numpy as np\n",
    "from matplotlib import pyplot as plt\n",
    "from tqdm import tqdm_notebook"
   ]
  },
  {
   "cell_type": "code",
   "execution_count": 10,
   "metadata": {},
   "outputs": [
    {
     "name": "stdout",
     "output_type": "stream",
     "text": [
      "/Volumes/FRED SHONE\n"
     ]
    }
   ],
   "source": [
    "# Set-up directory\n",
    "\n",
    "disk_name = 'FRED SHONE' # Memory Stick\n",
    "disk_location = '/Volumes'\n",
    "disk_path = os.path.join(disk_location, disk_name)\n",
    "print(disk_path)"
   ]
  },
  {
   "cell_type": "code",
   "execution_count": 11,
   "metadata": {},
   "outputs": [
    {
     "name": "stdout",
     "output_type": "stream",
     "text": [
      "['01-03-2015', '01-04-2015']\n"
     ]
    }
   ],
   "source": [
    "# Access daily sub-directories of images\n",
    "\n",
    "folders = sorted(os.listdir(disk_path)) # Assumes sorting by name is ok - but this won't work for changes in year\n",
    "\n",
    "# Filter for days by trying to convert to datetime\n",
    "\n",
    "day_directories = []\n",
    "for folder in folders:\n",
    "    try: \n",
    "        datetime.strptime(folder, '%m-%d-%Y')\n",
    "        day_directories.append(folder)\n",
    "    except: pass\n",
    "    \n",
    "print(day_directories)"
   ]
  },
  {
   "cell_type": "code",
   "execution_count": 12,
   "metadata": {},
   "outputs": [
    {
     "name": "stdout",
     "output_type": "stream",
     "text": [
      "01-03-2015: 16684 images\n",
      "frame rate assumed to be ~0.30896296296296294 frames per second\n",
      "01-04-2015: 16680 images\n",
      "frame rate assumed to be ~0.3088888888888889 frames per second\n"
     ]
    }
   ],
   "source": [
    "# Check for number of images in day directories\n",
    "\n",
    "for day_directory in day_directories:\n",
    "    day_dir_path = os.path.join(disk_path, day_directory)\n",
    "    image_paths = os.listdir(day_dir_path)\n",
    "    image_paths = sorted([image for image in os.listdir(day_dir_path) if not image.startswith('.')])\n",
    "    image_count = len(image_paths)\n",
    "    print('{}: {} images'.format(day_directory, image_count))   \n",
    "    #Wilkins building listed as opening hours from 8am to 11pm = 15 hours\n",
    "    frame_rate = image_count/(15*60*60)\n",
    "    print('frame rate assumed to be ~{} frames per second'.format(frame_rate))"
   ]
  },
  {
   "cell_type": "code",
   "execution_count": 13,
   "metadata": {},
   "outputs": [],
   "source": [
    "# Set-up motion detector\n",
    "trigger = 0.0001 # Total pixel difference to trigger motion detection\n",
    "warning_trigger = 10000 # Total pixel difference to trigger verbose image plot\n",
    "trigger_record = [] # Record of triggers\n",
    "verbose = False \n",
    "start_time = '08:00' # Assumes camera turned on at 8am every day\n",
    "frame_step = 3 # Seconds\n"
   ]
  },
  {
   "cell_type": "code",
   "execution_count": 15,
   "metadata": {},
   "outputs": [
    {
     "data": {
      "application/vnd.jupyter.widget-view+json": {
       "model_id": "19876ff23ed1471e8993ab0066f68ce7",
       "version_major": 2,
       "version_minor": 0
      },
      "text/html": [
       "<p>Failed to display Jupyter Widget of type <code>HBox</code>.</p>\n",
       "<p>\n",
       "  If you're reading this message in the Jupyter Notebook or JupyterLab Notebook, it may mean\n",
       "  that the widgets JavaScript is still loading. If this message persists, it\n",
       "  likely means that the widgets JavaScript library is either not installed or\n",
       "  not enabled. See the <a href=\"https://ipywidgets.readthedocs.io/en/stable/user_install.html\">Jupyter\n",
       "  Widgets Documentation</a> for setup instructions.\n",
       "</p>\n",
       "<p>\n",
       "  If you're reading this message in another frontend (for example, a static\n",
       "  rendering on GitHub or <a href=\"https://nbviewer.jupyter.org/\">NBViewer</a>),\n",
       "  it may mean that your frontend doesn't currently support widgets.\n",
       "</p>\n"
      ],
      "text/plain": [
       "HBox(children=(IntProgress(value=0, description='Days:', max=2), HTML(value='')))"
      ]
     },
     "metadata": {},
     "output_type": "display_data"
    },
    {
     "data": {
      "application/vnd.jupyter.widget-view+json": {
       "model_id": "1dc2c318e87f4d5bb9c81bd6fa60f400",
       "version_major": 2,
       "version_minor": 0
      },
      "text/html": [
       "<p>Failed to display Jupyter Widget of type <code>HBox</code>.</p>\n",
       "<p>\n",
       "  If you're reading this message in the Jupyter Notebook or JupyterLab Notebook, it may mean\n",
       "  that the widgets JavaScript is still loading. If this message persists, it\n",
       "  likely means that the widgets JavaScript library is either not installed or\n",
       "  not enabled. See the <a href=\"https://ipywidgets.readthedocs.io/en/stable/user_install.html\">Jupyter\n",
       "  Widgets Documentation</a> for setup instructions.\n",
       "</p>\n",
       "<p>\n",
       "  If you're reading this message in another frontend (for example, a static\n",
       "  rendering on GitHub or <a href=\"https://nbviewer.jupyter.org/\">NBViewer</a>),\n",
       "  it may mean that your frontend doesn't currently support widgets.\n",
       "</p>\n"
      ],
      "text/plain": [
       "HBox(children=(IntProgress(value=0, description='2015-01-03 00:00:00 progress:', max=16684), HTML(value='')))"
      ]
     },
     "metadata": {},
     "output_type": "display_data"
    },
    {
     "data": {
      "application/vnd.jupyter.widget-view+json": {
       "model_id": "866b1bf686884a9c9bfc399dabe41707",
       "version_major": 2,
       "version_minor": 0
      },
      "text/html": [
       "<p>Failed to display Jupyter Widget of type <code>HBox</code>.</p>\n",
       "<p>\n",
       "  If you're reading this message in the Jupyter Notebook or JupyterLab Notebook, it may mean\n",
       "  that the widgets JavaScript is still loading. If this message persists, it\n",
       "  likely means that the widgets JavaScript library is either not installed or\n",
       "  not enabled. See the <a href=\"https://ipywidgets.readthedocs.io/en/stable/user_install.html\">Jupyter\n",
       "  Widgets Documentation</a> for setup instructions.\n",
       "</p>\n",
       "<p>\n",
       "  If you're reading this message in another frontend (for example, a static\n",
       "  rendering on GitHub or <a href=\"https://nbviewer.jupyter.org/\">NBViewer</a>),\n",
       "  it may mean that your frontend doesn't currently support widgets.\n",
       "</p>\n"
      ],
      "text/plain": [
       "HBox(children=(IntProgress(value=0, description='2015-01-04 00:00:00 progress:', max=16680), HTML(value='')))"
      ]
     },
     "metadata": {},
     "output_type": "display_data"
    },
    {
     "name": "stdout",
     "output_type": "stream",
     "text": [
      "\n"
     ]
    }
   ],
   "source": [
    "for day_directory in tqdm_notebook(day_directories, desc='Days:'):\n",
    "    '''\n",
    "    print('------------------------------')\n",
    "    print('>>> Processing images for {}'.format(day_directory))\n",
    "    '''\n",
    "    day_dir_path = os.path.join(disk_path, day_directory)\n",
    "    images = sorted([image for image in os.listdir(day_dir_path) if not image.startswith('.')])\n",
    "    \n",
    "    date = datetime.strptime(day_directory,'%m-%d-%Y')\n",
    "    start_datetime = datetime.strptime(day_directory+' '+start_time,'%m-%d-%Y %H:%M')\n",
    "    \n",
    "    background = None # Initialise with no background\n",
    "    \n",
    "    num_images = len(images) # Get amount of images for progress bar\n",
    "        \n",
    "    for image in tqdm_notebook(images, desc='{} progress:'.format(date)):\n",
    "        \n",
    "        image_path = os.path.join(day_dir_path, image)\n",
    "        img = cv2.imread(image_path)\n",
    "        \n",
    "        # Reduce image size to 1%\n",
    "        thumb = cv2.resize(img, None, fx=.1, fy=.1, interpolation = cv2.INTER_AREA)\n",
    "        thumb = cv2.cvtColor(thumb, cv2.COLOR_BGR2GRAY)\n",
    "\n",
    "        if background is None: # Initialise background for first pass\n",
    "            background = thumb\n",
    "            \n",
    "        delta = cv2.absdiff(background, thumb)\n",
    "        thresh = cv2.threshold(delta, 25, 255, cv2.THRESH_BINARY)[1]\n",
    "        pixel_diff = cv2.sumElems(thresh)[0] # Need to check that this is the absolute difference\n",
    "        \n",
    "        if pixel_diff > img.size*trigger:\n",
    "            \n",
    "            # Extract frame number from imaga path\n",
    "            image_index = [int(s) for s in list(image) if s.isdigit()]\n",
    "            image_index = ''.join(str(x) for x in image_index) \n",
    "            image_index = int(image_index)\n",
    "            \n",
    "            # Calculate time stamp of frame\n",
    "            time_delta = timedelta(seconds=(frame_step*image_index))\n",
    "            time_stamp = start_datetime + time_delta\n",
    "            \n",
    "            if verbose:\n",
    "                '''\n",
    "                print('---------------')\n",
    "                print(image) \n",
    "                print('Movement detected at {} with pixel delta of {}:'.format(str(time_stamp), pixel_diff))\n",
    "                '''\n",
    "                \n",
    "                if pixel_diff < warning_trigger:\n",
    "                    f, axarr = plt.subplots(1,3, figsize=(15,5))\n",
    "                    axarr[0].imshow(background)\n",
    "                    axarr[1].imshow(thresh)\n",
    "                    axarr[2].imshow(thumb)\n",
    "                    plt.show()\n",
    "\n",
    "            \n",
    "            trigger_record.append(time_stamp) # Add to record\n",
    "        '''    \n",
    "        i = int(100*index/(num_images-1))\n",
    "        sys.stdout.write('\\r')\n",
    "        sys.stdout.write('Movement detected at {} with pixel delta of {}:'.format(str(time_stamp), pixel_diff))\n",
    "        sys.stdout.write(\"[%-100s] %d%%\" % ('='*i, i))\n",
    "        sys.stdout.flush()\n",
    "        '''\n",
    "        background = thumb # Set background for next frame        "
   ]
  },
  {
   "cell_type": "code",
   "execution_count": 16,
   "metadata": {},
   "outputs": [
    {
     "data": {
      "text/plain": [
       "13680"
      ]
     },
     "execution_count": 16,
     "metadata": {},
     "output_type": "execute_result"
    }
   ],
   "source": [
    "len(trigger_record)"
   ]
  },
  {
   "cell_type": "code",
   "execution_count": 18,
   "metadata": {},
   "outputs": [],
   "source": [
    "import pickle"
   ]
  },
  {
   "cell_type": "code",
   "execution_count": 32,
   "metadata": {},
   "outputs": [
    {
     "data": {
      "text/plain": [
       "'md_dump_2018-06-21_13-12-48.dat'"
      ]
     },
     "execution_count": 32,
     "metadata": {},
     "output_type": "execute_result"
    }
   ],
   "source": [
    "time = datetime.now()\n",
    "string = 'md_dump_'+time.strftime(\"%Y-%m-%d_%H-%M-%S\")+'.dat'\n",
    "string"
   ]
  },
  {
   "cell_type": "code",
   "execution_count": 33,
   "metadata": {},
   "outputs": [],
   "source": [
    "with open(string, \"wb\") as f:\n",
    "    pickle.dump(trigger_record, f)"
   ]
  },
  {
   "cell_type": "code",
   "execution_count": 34,
   "metadata": {},
   "outputs": [],
   "source": [
    "with open(string, 'rb') as f:\n",
    "    # The protocol version used is detected automatically, so we do not\n",
    "    # have to specify it.\n",
    "    data = pickle.load(f)"
   ]
  },
  {
   "cell_type": "code",
   "execution_count": 37,
   "metadata": {},
   "outputs": [
    {
     "data": {
      "text/plain": [
       "13680"
      ]
     },
     "execution_count": 37,
     "metadata": {},
     "output_type": "execute_result"
    }
   ],
   "source": [
    "len(data)"
   ]
  },
  {
   "cell_type": "code",
   "execution_count": null,
   "metadata": {},
   "outputs": [],
   "source": []
  },
  {
   "cell_type": "code",
   "execution_count": 64,
   "metadata": {},
   "outputs": [],
   "source": [
    "import pandas as pd"
   ]
  },
  {
   "cell_type": "code",
   "execution_count": 207,
   "metadata": {},
   "outputs": [],
   "source": [
    "motion_detections = pd.DataFrame({'timestamp':trigger_record})"
   ]
  },
  {
   "cell_type": "code",
   "execution_count": 257,
   "metadata": {},
   "outputs": [],
   "source": [
    "start_time = min(motion_detections.timestamp).replace(hour=0, minute=0, second=0).to_pydatetime()\n",
    "end_time = max(motion_detections.timestamp).replace(hour=0, minute=0, second=0).to_pydatetime() + timedelta(days=1)"
   ]
  },
  {
   "cell_type": "code",
   "execution_count": 259,
   "metadata": {},
   "outputs": [],
   "source": [
    "time_range = pd.date_range(start=start_time, end=end_time, freq='H')\n",
    "time_range_counter = pd.DataFrame({'timestamps':all_range, 'counter':0}).set_index('timestamps')"
   ]
  },
  {
   "cell_type": "code",
   "execution_count": 260,
   "metadata": {},
   "outputs": [],
   "source": [
    "for detection in motion_detections.timestamp:\n",
    "    detection_time = detection.replace(minute=0, second=0)\n",
    "    time_range_counter.counter[detection_time] += 1"
   ]
  },
  {
   "cell_type": "code",
   "execution_count": 261,
   "metadata": {},
   "outputs": [
    {
     "data": {
      "text/plain": [
       "<matplotlib.axes._subplots.AxesSubplot at 0x11eba5978>"
      ]
     },
     "execution_count": 261,
     "metadata": {},
     "output_type": "execute_result"
    },
    {
     "data": {
      "image/png": "[encoded data removed]",
      "text/plain": [
       "<matplotlib.figure.Figure at 0x1209c4908>"
      ]
     },
     "metadata": {},
     "output_type": "display_data"
    }
   ],
   "source": [
    "my_colors = 'b'\n",
    "time_range_counter.plot(kind='bar',\n",
    "             color=my_colors,\n",
    "             alpha=0.5,\n",
    "             figsize=(16,8),\n",
    "             title='Motion Detections')\n"
   ]
  },
  {
   "cell_type": "code",
   "execution_count": null,
   "metadata": {},
   "outputs": [],
   "source": []
  },
  {
   "cell_type": "code",
   "execution_count": 268,
   "metadata": {},
   "outputs": [],
   "source": [
    "hour_motion_detections = motion_detections.groupby(motion_detections.timestamp.dt.hour).count()"
   ]
  },
  {
   "cell_type": "code",
   "execution_count": 246,
   "metadata": {},
   "outputs": [
    {
     "data": {
      "text/plain": [
       "<matplotlib.axes._subplots.AxesSubplot at 0x11f946630>"
      ]
     },
     "execution_count": 246,
     "metadata": {},
     "output_type": "execute_result"
    },
    {
     "data": {
      "image/png": "[encoded data removed]",
      "text/plain": [
       "<matplotlib.figure.Figure at 0x1206ef1d0>"
      ]
     },
     "metadata": {},
     "output_type": "display_data"
    }
   ],
   "source": [
    "my_colors = 'r'\n",
    "hour_motion_detections.plot(kind='bar',\n",
    "             color=my_colors,\n",
    "             alpha=0.5,\n",
    "             figsize=(16,8),\n",
    "             title='Av. Motion Detections')"
   ]
  },
  {
   "cell_type": "code",
   "execution_count": null,
   "metadata": {},
   "outputs": [],
   "source": []
  },
  {
   "cell_type": "code",
   "execution_count": null,
   "metadata": {},
   "outputs": [],
   "source": []
  },
  {
   "cell_type": "code",
   "execution_count": null,
   "metadata": {},
   "outputs": [],
   "source": []
  }
 ],
 "metadata": {
  "kernelspec": {
   "display_name": "tensorflow",
   "language": "python",
   "name": "tensorflow"
  },
  "language_info": {
   "codemirror_mode": {
    "name": "ipython",
    "version": 3
   },
   "file_extension": ".py",
   "mimetype": "text/x-python",
   "name": "python",
   "nbconvert_exporter": "python",
   "pygments_lexer": "ipython3",
   "version": "3.6.5"
  }
 },
 "nbformat": 4,
 "nbformat_minor": 2
}
